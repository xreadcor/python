{
 "cells": [
  {
   "cell_type": "markdown",
   "metadata": {
    "colab_type": "text",
    "id": "YTnbWDwjNqBj"
   },
   "source": [
    "# Stacking\n",
    "\n",
    "Несмотря на то, что в открытом доступе существует довольно много реализаций стекинга, некоторые из которых даже представлены в виде библиотечных функций, лучше сделать собственную. Стекинг - не классический алгоритм решения задачи, а скорее набор правил для помощи в решении задачи другим алгоритмам. Если вы серьезно займетесь машинным обучением, рано или поздно вам скорее всего захочется что-нибудь поменять в этом наборе правил, поэтому собственная реализация с понятным вам кодом будет как нельзя кстати."
   ]
  },
  {
   "cell_type": "markdown",
   "metadata": {
    "colab_type": "text",
    "id": "F0AKW53hNqBk"
   },
   "source": [
    "В этом домашнем задании вы создадите собственную функцию для блендинга/классического стекинга моделей, которая пригодится вам в дальнейшем.\n",
    "\n",
    "Ниже вы увидите заготовку для функции, где:\n",
    "\n",
    "- models - список объектов базовых алгоритмов\n",
    "\n",
    "- meta_alg - мета-алгоритм\n",
    "\n",
    "data_train, targets_train, data_test, targets_test - тренировочные и тестовые признаки и целевые переменные\n",
    "\n",
    "- test_size - размер тестовых данных для блендинга в промежутке (0, 1)\n",
    "\n",
    "- cv - количество разбиений для кросс-валидации"
   ]
  },
  {
   "cell_type": "code",
   "execution_count": 1,
   "metadata": {
    "colab": {},
    "colab_type": "code",
    "id": "vVIUJhUMNqBl"
   },
   "outputs": [],
   "source": [
    "from sklearn.model_selection import cross_val_predict\n",
    "from sklearn.model_selection import StratifiedKFold\n",
    "from sklearn.model_selection import train_test_split\n",
    "from sklearn.metrics import roc_auc_score\n",
    "\n",
    "import pandas as pd\n",
    "import numpy as np\n",
    "\n",
    "import warnings\n",
    "warnings.filterwarnings('ignore')"
   ]
  },
  {
   "cell_type": "code",
   "execution_count": null,
   "metadata": {
    "colab": {},
    "colab_type": "code",
    "id": "BDRkf96PNqBo"
   },
   "outputs": [],
   "source": [
    "def stacking(models, meta_alg, data_train, targets_train, data_test, targets_test=None, test_size=None, cv=5):\n",
    "    "
   ]
  },
  {
   "cell_type": "markdown",
   "metadata": {
    "colab_type": "text",
    "id": "qMaQZPnxNqBr"
   },
   "source": [
    "### 1.\n",
    "В следующей ячейке в теле функции определен условный оператор if-else. После else вместо pass пропишите код из лекции с некоторыми новыми вставками в таком порядке: деление data_train и targets_train на тренировочные и валидационные данные с помощью функции train_test_split, где test_size=test_size из определения функции; определение матрицы meta_mtrx; цикл, в котором заполняется meta_mtrx: сначала строка, где модель обучается с помощью метода fit на тренировочных данных из разбиения, затем строка, где матрица заполняется значениями предсказаний моделей на валидационных данных. На этом цикл заканчивается.\n",
    "\n",
    "После цикла добавьте строку с методом fit мета-алгоритма: обучите его на значениях полученной матрицы meta_mtrx и целевой переменной для валидационных данных.\n",
    "\n",
    "Определите матрицу meta_mtrx_test. Напишите цикл, где эта матрица заполняется предсказаниями базовых моделей на тестовых данных data_test.\n",
    "\n",
    "После цикла сделайте предсказания мета-алгоритма для значений матрицы meta_mtrx_test.\n",
    "\n",
    "Дополните код еще одним оператором if, который будет проверять, существуют ли данные targets_test для проверки качества работы модели на тестовых данных: если targets_test не является None, тогда выведите метрику roc_auc_score для предсказаний мета-алгоритма на тестовых данных."
   ]
  },
  {
   "cell_type": "code",
   "execution_count": 9,
   "metadata": {
    "colab": {},
    "colab_type": "code",
    "id": "u0dJcqB5NqBr"
   },
   "outputs": [],
   "source": [
    "def stacking(models, meta_alg, data_train, targets_train, data_test, targets_test=None, random_state=None, test_size=None, cv=5):\n",
    "    if test_size is None:\n",
    "        pass\n",
    "    \n",
    "\n",
    "    elif test_size > 0 and test_size < 1 :\n",
    "        x_train, x_test, y_train, y_test = train_test_split(data_train, targets_train, test_size=test_size)\n",
    "        meta_mtrx = np.empty((x_test.shape[0], len(models)))\n",
    "        for model, n in enumerate(models):\n",
    "            fitting = model.fit(x_train, y_train)\n",
    "            meta_mtrx[:,n] = fitting.predict(x_test)\n",
    "            \n",
    "        meta_model = meta_alg.fit(meta_mtrx, y_train)\n",
    "        meta_mtrx_test = np.empty((data_test.shape[0], len(models)))\n",
    "        \n",
    "        for meta_model, n in enumerate(meta_alg):\n",
    "            meta_fit = meta_model.fit(data_train, targets_train)\n",
    "            meta_mtrx_test[:,n] = meta_fit.predict(data_test)\n",
    "        \n",
    "#         meta_model_test = meta_alg.fit(meta_mtrx_test, targets_train)\n",
    "        meta_predict = meta_model_test.predict(meta_mtrx_test)\n",
    "    \n",
    "    elif tergets_test is not None:\n",
    "            print(roc_auc_score(targets_test, meta_predict))\n",
    "            \n",
    "        \n",
    "    else:\n",
    "        raise ValueError(\"test_size must be between 0 and 1\")"
   ]
  },
  {
   "cell_type": "markdown",
   "metadata": {
    "colab_type": "text",
    "id": "VZ7ssAZ-NqBu"
   },
   "source": [
    "### 2.\n",
    "Теперь напишите код стекинга вместо pass после оператора if.\n",
    "\n",
    "Сразу определите матрицу meta_mtrx. Напишите цикл для заполнения матрицы: сначала напишите строку, где каждый столбец метапризнаков (для каждой модели) заполняется с помощью функции cross_val_predict(base_algotithm, data_train, targets_train, cv, method='predict'); следующая строка - обучите каждый базовый алгоритм на полном тренировочном датасете.\n",
    "\n",
    "После цикла обучите мета-алгоритм на матрице метапризнаков meta_mtrx. Определите матрицу meta_mtrx_test.\n",
    "\n",
    "Напишите второй цикл, где матрица meta_mtrx_test заполняется предсказаниями базовых моделей на тестовых данных data_test.\n",
    "\n",
    "После цикла сделайте предсказания мета-алгоритма для значений матрицы meta_mtrx_test.\n",
    "\n",
    "Так же, как и для блендинга, напишите код проверки для targets_test и выведите roc_auc_score, если это возможно."
   ]
  },
  {
   "cell_type": "code",
   "execution_count": 23,
   "metadata": {
    "colab": {},
    "colab_type": "code",
    "id": "1aYbDelYNqBu"
   },
   "outputs": [],
   "source": [
    "def stacking(models, meta_alg, data_train, targets_train, data_test, targets_test, random_state=None, test_size=None, cv=5):\n",
    "    if test_size is None:\n",
    "        meta_mtrx = np.empty((data_train.shape[0], len(models)))        \n",
    "        for n, model in enumerate(models):\n",
    "            meta_mtrx[:, n] = cross_val_predict(model, data_train, targets_train, cv=cv, method='predict')\n",
    "            model.fit(data_train, targets_train)\n",
    "        meta_alg_model = meta_alg.predict(meta_mtrx)\n",
    "        meta_mtrx_test = np.empty((data_test.shape[0], len(models)))\n",
    "        for n, model in enumerate(models):\n",
    "            meta_mtrx_test[:,n] = model.predict(data_test)\n",
    "        meta_predict = meta_alg.predict(meta_mtrx_test)\n",
    "\n",
    "    elif test_size > 0 and test_size < 1 :\n",
    "        x_train, x_test, y_train, y_test = train_test_split(data_train, targets_train, test_size=test_size)\n",
    "        meta_mtrx = np.empty((x_test.shape[0], len(models)))\n",
    "        for n, model in enumerate(models):\n",
    "            fitting = model.fit(x_train, y_train)\n",
    "            meta_mtrx[:,n] = fitting.predict(x_test)\n",
    "            \n",
    "        meta_model = meta_alg.fit(meta_mtrx, y_test)\n",
    "        meta_mtrx_test = np.empty((data_test.shape[0], len(models)))\n",
    "        \n",
    "        for n, model in enumerate(models):\n",
    "            meta_mtrx_test[:, n] = model.predict(data_test)\n",
    "        \n",
    "        meta_predict = meta_alg.predict(meta_mtrx_test)\n",
    "        \n",
    "        \n",
    "    else:\n",
    "        raise ValueError(\"test_size must be between 0 and 1\")\n",
    "        \n",
    "    if targets_test is not None:\n",
    "            print(roc_auc_score(targets_te, meta_predict))\n",
    "        \n",
    "    return meta_predict"
   ]
  },
  {
   "cell_type": "markdown",
   "metadata": {
    "colab_type": "text",
    "id": "ktP_ZympNqBx"
   },
   "source": [
    "### 3.\n",
    "Базовая функция стекинга готова. Теперь проверим, как она работает. Ниже представлен уже знакомый нам датасет Titanic, разделенный на тренировочный и тестовый датасеты; предопределенные базовые алгоритмы и мета-алгоритм. Ваша задача - составить список базовых алгоритмов и запустить функцию в трех различных вариантах (при этом в каждом из них все значения data_train, targets_train, data_test, targets_test должны быть определены):\n",
    "\n",
    "1. Вызвать исключение \"test_size must be between 0 and 1\".\n",
    "\n",
    "2. Установить test_size=0.3; вывести AUC и массив полученных предсказаний.\n",
    "\n",
    "3. Оставить test_size=None; вывести AUC и массив полученных предсказаний."
   ]
  },
  {
   "cell_type": "code",
   "execution_count": 27,
   "metadata": {
    "colab": {},
    "colab_type": "code",
    "id": "2kJT4LjRNqBx"
   },
   "outputs": [],
   "source": [
    "from sklearn.neighbors import KNeighborsClassifier\n",
    "from sklearn.linear_model import LogisticRegression\n",
    "from sklearn.svm import SVC\n",
    "from xgboost import XGBClassifier\n",
    "\n",
    "\n",
    "titanic = pd.read_csv('9.7_titanic.csv')\n",
    "targets = titanic.Survived\n",
    "data = titanic.drop(columns='Survived')\n",
    "\n",
    "x_train, x_test, y_train, y_test = train_test_split(data, \n",
    "                                                    targets,\n",
    "                                                    train_size=0.8,\n",
    "                                                    random_state=17)\n",
    "\n",
    "knn = KNeighborsClassifier(n_neighbors=3)\n",
    "lr = LogisticRegression(random_state=17)\n",
    "svc = SVC(random_state=17)\n",
    "\n",
    "meta = XGBClassifier(n_estimators=40)"
   ]
  },
  {
   "cell_type": "code",
   "execution_count": 29,
   "metadata": {
    "colab": {},
    "colab_type": "code",
    "id": "qbHZDCAiNqB0"
   },
   "outputs": [
    {
     "name": "stdout",
     "output_type": "stream",
     "text": [
      "0.7502584647195657\n"
     ]
    },
    {
     "data": {
      "text/plain": [
       "array([0, 1, 0, 0, 1, 0, 0, 0, 0, 1, 1, 0, 0, 0, 1, 0, 1, 0, 1, 0, 1, 0,\n",
       "       1, 0, 1, 0, 0, 0, 0, 0, 0, 0, 0, 1, 0, 1, 0, 1, 0, 1, 1, 0, 1, 0,\n",
       "       1, 0, 0, 1, 1, 0, 1, 1, 0, 0, 0, 1, 0, 0, 0, 0, 1, 0, 0, 1, 1, 1,\n",
       "       1, 0, 0, 0, 1, 0, 0, 1, 0, 1, 1, 0, 0, 0, 1, 1, 0, 0, 0, 0, 0, 0,\n",
       "       0, 1, 1, 1, 0, 0, 0, 0, 1, 0, 0, 1, 0, 1, 1, 1, 1, 1, 0, 0, 0, 0,\n",
       "       0, 0, 0, 1, 1, 1, 1, 0, 1, 0, 0, 1, 1, 0, 1, 0, 0, 1, 0, 0, 0, 1,\n",
       "       0, 1, 0, 0, 1, 0, 1, 1, 0, 0, 0, 1, 0, 1, 0, 0, 0, 1, 1, 0, 0, 0,\n",
       "       1, 0, 0, 0, 1, 0, 1, 0, 1, 0, 0, 1, 0, 1, 0, 0, 1, 0, 1, 0, 0, 0,\n",
       "       1, 1, 1], dtype=int64)"
      ]
     },
     "execution_count": 29,
     "metadata": {},
     "output_type": "execute_result"
    }
   ],
   "source": [
    "models = [knn, lr, svc]\n",
    "stacking(models, meta, x_train, y_train, x_test, random_state=17, test_size=0.3, targets_test=y_test)"
   ]
  },
  {
   "cell_type": "code",
   "execution_count": 31,
   "metadata": {},
   "outputs": [
    {
     "name": "stdout",
     "output_type": "stream",
     "text": [
      "0.7434091496510726\n"
     ]
    },
    {
     "data": {
      "text/plain": [
       "array([0, 1, 0, 0, 1, 0, 0, 0, 0, 1, 1, 0, 0, 0, 1, 0, 1, 0, 1, 0, 1, 0,\n",
       "       1, 0, 1, 0, 0, 0, 0, 0, 0, 0, 0, 1, 0, 1, 0, 1, 0, 1, 1, 0, 1, 0,\n",
       "       1, 0, 0, 1, 1, 0, 1, 1, 0, 0, 0, 1, 0, 0, 0, 0, 1, 0, 1, 1, 1, 1,\n",
       "       1, 0, 0, 0, 1, 0, 0, 1, 0, 1, 1, 0, 0, 0, 1, 1, 0, 0, 0, 0, 0, 0,\n",
       "       0, 0, 1, 1, 0, 0, 0, 0, 1, 0, 0, 1, 0, 1, 1, 1, 1, 1, 0, 0, 0, 0,\n",
       "       0, 0, 0, 1, 1, 1, 1, 0, 1, 0, 0, 1, 1, 0, 1, 0, 0, 1, 0, 0, 0, 1,\n",
       "       0, 1, 0, 0, 1, 0, 1, 1, 0, 0, 0, 1, 0, 1, 0, 0, 0, 1, 1, 0, 0, 0,\n",
       "       1, 0, 0, 0, 1, 0, 1, 0, 1, 0, 0, 1, 0, 1, 0, 0, 1, 0, 1, 0, 0, 0,\n",
       "       1, 0, 1], dtype=int64)"
      ]
     },
     "execution_count": 31,
     "metadata": {},
     "output_type": "execute_result"
    }
   ],
   "source": [
    "stacking(models, meta, x_train, y_train, x_test, random_state=17, test_size=None, targets_test=y_test)"
   ]
  },
  {
   "cell_type": "markdown",
   "metadata": {
    "colab_type": "text",
    "id": "QT9CNfbBNqB2"
   },
   "source": [
    "По мере того, как вы будете использовать эту функцию, вам могут пригодиться такие дополнительные параметры как: random_state, который позволит делать воспроизводимые модели; metrics - список метрик, которые могут быть вычислены; grid_search, который может производить поиск лучших параметров для алгоритмов, и т.д."
   ]
  }
 ],
 "metadata": {
  "colab": {
   "name": "jun_ml_extra_tech_stack-hw.ipynb",
   "provenance": []
  },
  "kernelspec": {
   "display_name": "Python 3",
   "language": "python",
   "name": "python3"
  },
  "language_info": {
   "codemirror_mode": {
    "name": "ipython",
    "version": 3
   },
   "file_extension": ".py",
   "mimetype": "text/x-python",
   "name": "python",
   "nbconvert_exporter": "python",
   "pygments_lexer": "ipython3",
   "version": "3.7.6"
  }
 },
 "nbformat": 4,
 "nbformat_minor": 1
}
